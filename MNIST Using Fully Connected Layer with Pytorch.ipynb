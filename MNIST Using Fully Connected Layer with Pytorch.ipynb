{
 "cells": [
  {
   "cell_type": "code",
   "execution_count": 1,
   "metadata": {},
   "outputs": [],
   "source": [
    "import torch\n",
    "import torchvision\n",
    "from torchvision import transforms,datasets\n",
    "import torch.optim as optim\n",
    "import torch.nn as nn\n",
    "import torch.nn.functional as F\n",
    "\n",
    "import os\n",
    "import gzip\n",
    "import numpy as np\n",
    "import matplotlib.pyplot as plt\n",
    "import random"
   ]
  },
  {
   "cell_type": "markdown",
   "metadata": {},
   "source": [
    "Dataset"
   ]
  },
  {
   "cell_type": "code",
   "execution_count": 2,
   "metadata": {},
   "outputs": [],
   "source": [
    "#官网下载\n",
    "#train =datasets.MNIST(\"\",train = True,download = True,transform = transforms.Compose([transforms.ToTensor()])) \n",
    "#test = datasets.MNIST(\"\",train = True,download = True,transform = transforms.Compose([transforms.ToTensor()])) \n",
    "#本地导入\n",
    "class DealDataset(torch.utils.data.Dataset):\n",
    "    \"\"\"\n",
    "        读取数据、初始化数据\n",
    "    \"\"\"\n",
    "\n",
    "    def __init__(self, folder, data_name, label_name, transform=None):\n",
    "        # 其实也可以直接使用torch.load(),读取之后的结果为torch.Tensor形式\n",
    "        (train_set, train_labels) = load_data(folder, data_name,label_name)  \n",
    "        self.train_set = train_set\n",
    "        self.train_labels = train_labels\n",
    "        self.transform = transform\n",
    "\n",
    "    def __getitem__(self, index):\n",
    "        img, target = self.train_set[index], int(self.train_labels[index])\n",
    "        if self.transform is not None:\n",
    "            img = self.transform(img)\n",
    "        return img, target\n",
    "\n",
    "    def __len__(self):\n",
    "        return len(self.train_set)\n",
    "\n",
    "\n",
    "def load_data(data_folder, data_name, label_name):\n",
    "    # rb表示的是读取二进制数据\n",
    "    with gzip.open(os.path.join(data_folder, label_name), 'rb') as lbpath:  \n",
    "        y_train = np.frombuffer(lbpath.read(), np.uint8, offset=8)\n",
    "\n",
    "    with gzip.open(os.path.join(data_folder, data_name), 'rb') as imgpath:\n",
    "        x_train = np.frombuffer(\n",
    "            imgpath.read(), np.uint8, offset=16).reshape(len(y_train), 28, 28)\n",
    "    return (x_train, y_train)\n",
    "\n",
    "\n",
    "train = DealDataset(r'MNIST\\raw', \"train-images-idx3-ubyte.gz\",\"train-labels-idx1-ubyte.gz\", transform=transforms.ToTensor())\n",
    "test = DealDataset(r'MNIST\\raw', \"t10k-images-idx3-ubyte.gz\",\"t10k-labels-idx1-ubyte.gz\", transform=transforms.ToTensor())\n",
    "\n",
    "trainset=torch.utils.data.DataLoader(train,batch_size=10,shuffle=True)\n",
    "testset=torch.utils.data.DataLoader(train,batch_size=10,shuffle=True)\n",
    "\n",
    "#统计查看数据分布\n",
    "#for data in trainset:\n",
    "#   print(data)\n",
    "#    break\n",
    "\n",
    "#x,y=data[0][0],data[0][1]\n",
    "#plt.imshow(x.view(28,28))\n",
    "#plt.show()\n",
    "\n",
    "\n",
    "#total=0\n",
    "#counter_dict={0:0,1:0,2:0,3:0,4:0,5:0,6:0,7:0,8:0,9:0}\n",
    "\n",
    "#for data in trainset:\n",
    "#    xs,ys=data\n",
    "#    for y in ys:\n",
    "#        counter_dict[int(y)]+=1\n",
    "#        total+=1\n",
    "#print(counter_dict)\n",
    "#for i in counter_dict:\n",
    "#    print(f\"{i}:{counter_dict[i]/total*100}%\")        "
   ]
  },
  {
   "cell_type": "markdown",
   "metadata": {},
   "source": [
    "Build Network"
   ]
  },
  {
   "cell_type": "code",
   "execution_count": 3,
   "metadata": {},
   "outputs": [],
   "source": [
    "\n",
    "\n",
    "class Net(nn.Module):\n",
    "    def __init__(self):\n",
    "        super().__init__()\n",
    "        #fully connected layer\n",
    "        self.fc1=nn.Linear(28*28,64)\n",
    "        self.fc2=nn.Linear(64,64)\n",
    "        self.fc3=nn.Linear(64,64)\n",
    "        self.fc4=nn.Linear(64,10)\n",
    "            \n",
    "    def forward(self,x):\n",
    "        x=F.relu(self.fc1(x))\n",
    "        x=F.relu(self.fc2(x))\n",
    "        x=F.relu(self.fc3(x))\n",
    "        x=self.fc4(x)\n",
    "        \n",
    "        return F.log_softmax(x,dim=1)\n",
    "\n",
    "#net=Net()\n",
    "#print(net)\n",
    "        \n",
    "\n",
    "#X=torch.rand([28,28])\n",
    "#X=X.reshape(-1,28*28)\n",
    "\n",
    "#output=net(X)\n",
    "\n",
    "#output"
   ]
  },
  {
   "cell_type": "markdown",
   "metadata": {},
   "source": [
    "Train Network"
   ]
  },
  {
   "cell_type": "code",
   "execution_count": 4,
   "metadata": {},
   "outputs": [
    {
     "name": "stderr",
     "output_type": "stream",
     "text": [
      "E:\\software\\Anaconda\\lib\\site-packages\\torchvision\\transforms\\functional.py:74: UserWarning: The given NumPy array is not writeable, and PyTorch does not support non-writeable tensors. This means you can write to the underlying (supposedly non-writeable) NumPy array using the tensor. You may want to copy the array to protect its data or make it writeable before converting it to a tensor. This type of warning will be suppressed for the rest of this program. (Triggered internally at  ..\\torch\\csrc\\utils\\tensor_numpy.cpp:141.)\n",
      "  img = torch.from_numpy(pic.transpose((2, 0, 1))).contiguous()\n"
     ]
    },
    {
     "name": "stdout",
     "output_type": "stream",
     "text": [
      "epoch 0: loss: 0.705\n",
      "epoch 1: loss: 0.003\n",
      "epoch 2: loss: 0.028\n"
     ]
    }
   ],
   "source": [
    "#构建实例\n",
    "net=Net()\n",
    "optimizer=torch.optim.Adam(net.parameters()) \n",
    "\n",
    "EPOCHS=3\n",
    "\n",
    "for epoch in range(EPOCHS):\n",
    "    for data in trainset:\n",
    "        #data is a batch of featuresets and labels\n",
    "        X,y=data\n",
    "        net.zero_grad()\n",
    "        output=net(X.view(-1,28*28))\n",
    "        loss=F.nll_loss(output,y)\n",
    "        loss.backward()\n",
    "        optimizer.step()\n",
    "    print('epoch {}: loss: {:.3f}'.format(epoch,loss.item()))"
   ]
  },
  {
   "cell_type": "markdown",
   "metadata": {},
   "source": [
    "Prediction Accuracy"
   ]
  },
  {
   "cell_type": "code",
   "execution_count": 5,
   "metadata": {},
   "outputs": [
    {
     "name": "stdout",
     "output_type": "stream",
     "text": [
      "Accuracy: 0.9799\n"
     ]
    }
   ],
   "source": [
    "\n",
    "correct=0\n",
    "total=0\n",
    "with torch.no_grad():\n",
    "    for data in trainset:\n",
    "        X,y=data\n",
    "        output=net(X.view(-1,28*28))\n",
    "        for idx , i in enumerate(output):\n",
    "            if torch.argmax(i)==y[idx]:\n",
    "                correct+=1\n",
    "            total+=1\n",
    "print(\"Accuracy:\",round(correct/total,5))\n",
    "        "
   ]
  },
  {
   "cell_type": "markdown",
   "metadata": {},
   "source": [
    "Random Display Result"
   ]
  },
  {
   "cell_type": "code",
   "execution_count": 6,
   "metadata": {},
   "outputs": [
    {
     "data": {
      "image/png": "[encoded data removed]",
      "text/plain": [
       "<Figure size 432x288 with 1 Axes>"
      ]
     },
     "metadata": {
      "needs_background": "light"
     },
     "output_type": "display_data"
    },
    {
     "name": "stdout",
     "output_type": "stream",
     "text": [
      "predict: 0\n",
      "   real: 0\n"
     ]
    },
    {
     "data": {
      "image/png": "[encoded data removed]",
      "text/plain": [
       "<Figure size 432x288 with 1 Axes>"
      ]
     },
     "metadata": {
      "needs_background": "light"
     },
     "output_type": "display_data"
    },
    {
     "name": "stdout",
     "output_type": "stream",
     "text": [
      "predict: 8\n",
      "   real: 8\n"
     ]
    },
    {
     "data": {
      "image/png": "[encoded data removed]",
      "text/plain": [
       "<Figure size 432x288 with 1 Axes>"
      ]
     },
     "metadata": {
      "needs_background": "light"
     },
     "output_type": "display_data"
    },
    {
     "name": "stdout",
     "output_type": "stream",
     "text": [
      "predict: 0\n",
      "   real: 0\n"
     ]
    }
   ],
   "source": [
    "for i in range(3):\n",
    "    num=random.randint(0,9)\n",
    "    plt.imshow(X[num].view(28,28))\n",
    "    plt.show()\n",
    "    print('predict:',torch.argmax(net(X[num].view(-1,28*28))[0]).item())\n",
    "    print('   real:',y[num].item())\n"
   ]
  }
 ],
 "metadata": {
  "kernelspec": {
   "display_name": "Python 3",
   "language": "python",
   "name": "python3"
  },
  "language_info": {
   "codemirror_mode": {
    "name": "ipython",
    "version": 3
   },
   "file_extension": ".py",
   "mimetype": "text/x-python",
   "name": "python",
   "nbconvert_exporter": "python",
   "pygments_lexer": "ipython3",
   "version": "3.8.3"
  }
 },
 "nbformat": 4,
 "nbformat_minor": 4
}
